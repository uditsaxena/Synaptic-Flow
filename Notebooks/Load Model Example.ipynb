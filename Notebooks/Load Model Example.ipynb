{
 "cells": [
  {
   "cell_type": "markdown",
   "metadata": {},
   "source": [
    "1. To get the pruned model, run: \n",
    "    > python main.py --experiment prune-only --pruner synflow --prune-epochs 2 --post-epochs 0 --model conv --save-pruned\n",
    "\n",
    "2. Results will get saved in \"Results/pruned/default/{model_name}/{pruner}/{epoch}_prune.pth\"\n",
    "3. In the get_model function, choose which epoch to load"
   ]
  },
  {
   "cell_type": "code",
   "execution_count": 1,
   "metadata": {},
   "outputs": [
    {
     "name": "stdout",
     "output_type": "stream",
     "text": [
      "/home/udit/programs/Synaptic-Flow/Notebooks\n",
      "/home/udit/programs/Synaptic-Flow\n"
     ]
    }
   ],
   "source": [
    "import os\n",
    "print(os.getcwd())\n",
    "import sys\n",
    "nb_dir = os.path.split(os.getcwd())[0]\n",
    "print(nb_dir)\n",
    "if nb_dir not in sys.path:\n",
    "    sys.path.append(nb_dir)"
   ]
  },
  {
   "cell_type": "code",
   "execution_count": 2,
   "metadata": {},
   "outputs": [],
   "source": [
    "%load_ext autoreload\n",
    "%autoreload 1"
   ]
  },
  {
   "cell_type": "code",
   "execution_count": 3,
   "metadata": {},
   "outputs": [],
   "source": [
    "from load_pruned import get_model"
   ]
  },
  {
   "cell_type": "code",
   "execution_count": 10,
   "metadata": {},
   "outputs": [
    {
     "name": "stdout",
     "output_type": "stream",
     "text": [
      "Loading mnist dataset.\n",
      "Creating default-conv model.\n",
      "Loading model from: ../Results/pruned/default/conv/synflow/0_prune.pth\n"
     ]
    }
   ],
   "source": [
    "model = get_model('mnist', 'default', 'conv', epoch=0)"
   ]
  },
  {
   "cell_type": "code",
   "execution_count": 8,
   "metadata": {},
   "outputs": [
    {
     "name": "stdout",
     "output_type": "stream",
     "text": [
      "0.weight torch.Size([32, 1, 3, 3])\n",
      "0.bias torch.Size([32])\n",
      "0.weight_mask torch.Size([32, 1, 3, 3])\n",
      "0.bias_mask torch.Size([32])\n",
      "2.weight torch.Size([32, 32, 3, 3])\n",
      "2.bias torch.Size([32])\n",
      "2.weight_mask torch.Size([32, 32, 3, 3])\n",
      "2.bias_mask torch.Size([32])\n",
      "5.weight torch.Size([10, 25088])\n",
      "5.bias torch.Size([10])\n",
      "5.weight_mask torch.Size([10, 25088])\n",
      "5.bias_mask torch.Size([10])\n"
     ]
    }
   ],
   "source": [
    "for name, param in model.state_dict().items():\n",
    "    print(name, param.size())"
   ]
  },
  {
   "cell_type": "code",
   "execution_count": null,
   "metadata": {},
   "outputs": [],
   "source": []
  },
  {
   "cell_type": "code",
   "execution_count": null,
   "metadata": {},
   "outputs": [],
   "source": []
  }
 ],
 "metadata": {
  "kernelspec": {
   "display_name": "Python 3",
   "language": "python",
   "name": "python3"
  },
  "language_info": {
   "codemirror_mode": {
    "name": "ipython",
    "version": 3
   },
   "file_extension": ".py",
   "mimetype": "text/x-python",
   "name": "python",
   "nbconvert_exporter": "python",
   "pygments_lexer": "ipython3",
   "version": "3.7.7"
  }
 },
 "nbformat": 4,
 "nbformat_minor": 4
}
